{
 "cells": [
  {
   "cell_type": "code",
   "execution_count": 4,
   "id": "8fc4d404-9835-4d25-9c34-884d08b58427",
   "metadata": {},
   "outputs": [],
   "source": [
    "import pandas as pd"
   ]
  },
  {
   "cell_type": "code",
   "execution_count": 5,
   "id": "4fd8384a-8424-4427-9d5c-65a53a32efaf",
   "metadata": {},
   "outputs": [],
   "source": [
    "import pandas as pd\n",
    "import numpy as np\n",
    "\n",
    "# Define the data\n",
    "data = {\n",
    "    'Name': ['Alice', 'Bob', 'Charlie', 'David', 'Emily', 'Frank', 'Grace', 'Henry', 'Ivy', 'Jack'],\n",
    "    'Age': [20, 19, np.nan, 21, 22, 18, np.nan, 20, 19, 21],\n",
    "    'Math_Score': [80, 75, 90, np.nan, 85, 70, 88, 92, 78, 85],\n",
    "    'Science_Score': [85, np.nan, 92, 78, 88, 75, 90, 94, 80, 87]\n",
    "}\n",
    "\n",
    "# Create a DataFrame\n",
    "df = pd.DataFrame(data)\n",
    "\n",
    "# Save the DataFrame to a CSV file\n",
    "df.to_csv('student_performance.csv', index=False)"
   ]
  },
  {
   "cell_type": "code",
   "execution_count": 10,
   "id": "c511f9cb-a388-44b1-92f8-5392cb8e7a35",
   "metadata": {},
   "outputs": [],
   "source": [
    "df = pd.read_csv(\"student_performance.csv\")"
   ]
  },
  {
   "cell_type": "code",
   "execution_count": 17,
   "id": "034270c9-6071-4efd-aa3d-01460de1e4b8",
   "metadata": {},
   "outputs": [
    {
     "data": {
      "text/html": [
       "<div>\n",
       "<style scoped>\n",
       "    .dataframe tbody tr th:only-of-type {\n",
       "        vertical-align: middle;\n",
       "    }\n",
       "\n",
       "    .dataframe tbody tr th {\n",
       "        vertical-align: top;\n",
       "    }\n",
       "\n",
       "    .dataframe thead th {\n",
       "        text-align: right;\n",
       "    }\n",
       "</style>\n",
       "<table border=\"1\" class=\"dataframe\">\n",
       "  <thead>\n",
       "    <tr style=\"text-align: right;\">\n",
       "      <th></th>\n",
       "      <th>Name</th>\n",
       "      <th>Age</th>\n",
       "      <th>Math_Score</th>\n",
       "      <th>Science_Score</th>\n",
       "    </tr>\n",
       "  </thead>\n",
       "  <tbody>\n",
       "    <tr>\n",
       "      <th>0</th>\n",
       "      <td>False</td>\n",
       "      <td>False</td>\n",
       "      <td>False</td>\n",
       "      <td>False</td>\n",
       "    </tr>\n",
       "    <tr>\n",
       "      <th>1</th>\n",
       "      <td>False</td>\n",
       "      <td>False</td>\n",
       "      <td>False</td>\n",
       "      <td>True</td>\n",
       "    </tr>\n",
       "    <tr>\n",
       "      <th>2</th>\n",
       "      <td>False</td>\n",
       "      <td>True</td>\n",
       "      <td>False</td>\n",
       "      <td>False</td>\n",
       "    </tr>\n",
       "    <tr>\n",
       "      <th>3</th>\n",
       "      <td>False</td>\n",
       "      <td>False</td>\n",
       "      <td>True</td>\n",
       "      <td>False</td>\n",
       "    </tr>\n",
       "    <tr>\n",
       "      <th>4</th>\n",
       "      <td>False</td>\n",
       "      <td>False</td>\n",
       "      <td>False</td>\n",
       "      <td>False</td>\n",
       "    </tr>\n",
       "    <tr>\n",
       "      <th>5</th>\n",
       "      <td>False</td>\n",
       "      <td>False</td>\n",
       "      <td>False</td>\n",
       "      <td>False</td>\n",
       "    </tr>\n",
       "    <tr>\n",
       "      <th>6</th>\n",
       "      <td>False</td>\n",
       "      <td>True</td>\n",
       "      <td>False</td>\n",
       "      <td>False</td>\n",
       "    </tr>\n",
       "    <tr>\n",
       "      <th>7</th>\n",
       "      <td>False</td>\n",
       "      <td>False</td>\n",
       "      <td>False</td>\n",
       "      <td>False</td>\n",
       "    </tr>\n",
       "    <tr>\n",
       "      <th>8</th>\n",
       "      <td>False</td>\n",
       "      <td>False</td>\n",
       "      <td>False</td>\n",
       "      <td>False</td>\n",
       "    </tr>\n",
       "    <tr>\n",
       "      <th>9</th>\n",
       "      <td>False</td>\n",
       "      <td>False</td>\n",
       "      <td>False</td>\n",
       "      <td>False</td>\n",
       "    </tr>\n",
       "  </tbody>\n",
       "</table>\n",
       "</div>"
      ],
      "text/plain": [
       "    Name    Age  Math_Score  Science_Score\n",
       "0  False  False       False          False\n",
       "1  False  False       False           True\n",
       "2  False   True       False          False\n",
       "3  False  False        True          False\n",
       "4  False  False       False          False\n",
       "5  False  False       False          False\n",
       "6  False   True       False          False\n",
       "7  False  False       False          False\n",
       "8  False  False       False          False\n",
       "9  False  False       False          False"
      ]
     },
     "execution_count": 17,
     "metadata": {},
     "output_type": "execute_result"
    }
   ],
   "source": [
    "# 1 . Null values\n",
    "df.isnull()"
   ]
  },
  {
   "cell_type": "code",
   "execution_count": 12,
   "id": "56f47575-a12a-4db0-b8b2-70b16d3c6b82",
   "metadata": {},
   "outputs": [
    {
     "data": {
      "text/plain": [
       "Name             0\n",
       "Age              2\n",
       "Math_Score       1\n",
       "Science_Score    1\n",
       "dtype: int64"
      ]
     },
     "execution_count": 12,
     "metadata": {},
     "output_type": "execute_result"
    }
   ],
   "source": [
    "df.isnull().sum()"
   ]
  },
  {
   "cell_type": "markdown",
   "id": "2d0d5e23-8586-48ed-9ff5-257c7952bfde",
   "metadata": {},
   "source": [
    "# 2. Replace missing values by 2 ways "
   ]
  },
  {
   "cell_type": "code",
   "execution_count": 22,
   "id": "42a4bd5c-044f-4005-8918-8891ac31fe99",
   "metadata": {},
   "outputs": [
    {
     "data": {
      "text/html": [
       "<div>\n",
       "<style scoped>\n",
       "    .dataframe tbody tr th:only-of-type {\n",
       "        vertical-align: middle;\n",
       "    }\n",
       "\n",
       "    .dataframe tbody tr th {\n",
       "        vertical-align: top;\n",
       "    }\n",
       "\n",
       "    .dataframe thead th {\n",
       "        text-align: right;\n",
       "    }\n",
       "</style>\n",
       "<table border=\"1\" class=\"dataframe\">\n",
       "  <thead>\n",
       "    <tr style=\"text-align: right;\">\n",
       "      <th></th>\n",
       "      <th>Name</th>\n",
       "      <th>Age</th>\n",
       "      <th>Math_Score</th>\n",
       "      <th>Science_Score</th>\n",
       "    </tr>\n",
       "  </thead>\n",
       "  <tbody>\n",
       "    <tr>\n",
       "      <th>0</th>\n",
       "      <td>Alice</td>\n",
       "      <td>200.0</td>\n",
       "      <td>80.0</td>\n",
       "      <td>85.0</td>\n",
       "    </tr>\n",
       "    <tr>\n",
       "      <th>4</th>\n",
       "      <td>Emily</td>\n",
       "      <td>22.0</td>\n",
       "      <td>85.0</td>\n",
       "      <td>88.0</td>\n",
       "    </tr>\n",
       "    <tr>\n",
       "      <th>5</th>\n",
       "      <td>Frank</td>\n",
       "      <td>18.0</td>\n",
       "      <td>70.0</td>\n",
       "      <td>75.0</td>\n",
       "    </tr>\n",
       "    <tr>\n",
       "      <th>7</th>\n",
       "      <td>Henry</td>\n",
       "      <td>20.0</td>\n",
       "      <td>92.0</td>\n",
       "      <td>94.0</td>\n",
       "    </tr>\n",
       "    <tr>\n",
       "      <th>8</th>\n",
       "      <td>Ivy</td>\n",
       "      <td>19.0</td>\n",
       "      <td>78.0</td>\n",
       "      <td>80.0</td>\n",
       "    </tr>\n",
       "    <tr>\n",
       "      <th>9</th>\n",
       "      <td>Jack</td>\n",
       "      <td>2901.0</td>\n",
       "      <td>85.0</td>\n",
       "      <td>87.0</td>\n",
       "    </tr>\n",
       "  </tbody>\n",
       "</table>\n",
       "</div>"
      ],
      "text/plain": [
       "    Name     Age  Math_Score  Science_Score\n",
       "0  Alice   200.0        80.0           85.0\n",
       "4  Emily    22.0        85.0           88.0\n",
       "5  Frank    18.0        70.0           75.0\n",
       "7  Henry    20.0        92.0           94.0\n",
       "8    Ivy    19.0        78.0           80.0\n",
       "9   Jack  2901.0        85.0           87.0"
      ]
     },
     "execution_count": 22,
     "metadata": {},
     "output_type": "execute_result"
    }
   ],
   "source": [
    "df.dropna(inplace = False)"
   ]
  },
  {
   "cell_type": "markdown",
   "id": "df7a5d7b-549f-4260-bd9b-10639dd9189f",
   "metadata": {},
   "source": [
    "# 2ndway"
   ]
  },
  {
   "cell_type": "code",
   "execution_count": 12,
   "id": "8b351e39-f414-4521-ba68-38c404f6952c",
   "metadata": {},
   "outputs": [],
   "source": [
    "import numpy as np"
   ]
  },
  {
   "cell_type": "code",
   "execution_count": 25,
   "id": "153489c5-9732-4ba4-acbc-d97e15eaf801",
   "metadata": {},
   "outputs": [],
   "source": [
    "median_df = df['Math_Score'].fillna(df['Math_Score'].median(), inplace=False)"
   ]
  },
  {
   "cell_type": "code",
   "execution_count": 22,
   "id": "5865d005-45c2-4106-84e2-06147b599bb4",
   "metadata": {},
   "outputs": [
    {
     "data": {
      "text/html": [
       "<div>\n",
       "<style scoped>\n",
       "    .dataframe tbody tr th:only-of-type {\n",
       "        vertical-align: middle;\n",
       "    }\n",
       "\n",
       "    .dataframe tbody tr th {\n",
       "        vertical-align: top;\n",
       "    }\n",
       "\n",
       "    .dataframe thead th {\n",
       "        text-align: right;\n",
       "    }\n",
       "</style>\n",
       "<table border=\"1\" class=\"dataframe\">\n",
       "  <thead>\n",
       "    <tr style=\"text-align: right;\">\n",
       "      <th></th>\n",
       "      <th>Name</th>\n",
       "      <th>Age</th>\n",
       "      <th>Math_Score</th>\n",
       "      <th>Science_Score</th>\n",
       "    </tr>\n",
       "  </thead>\n",
       "  <tbody>\n",
       "    <tr>\n",
       "      <th>0</th>\n",
       "      <td>Alice</td>\n",
       "      <td>20.0</td>\n",
       "      <td>80.0</td>\n",
       "      <td>85.0</td>\n",
       "    </tr>\n",
       "    <tr>\n",
       "      <th>1</th>\n",
       "      <td>Bob</td>\n",
       "      <td>19.0</td>\n",
       "      <td>75.0</td>\n",
       "      <td>NaN</td>\n",
       "    </tr>\n",
       "    <tr>\n",
       "      <th>2</th>\n",
       "      <td>Charlie</td>\n",
       "      <td>20.0</td>\n",
       "      <td>90.0</td>\n",
       "      <td>92.0</td>\n",
       "    </tr>\n",
       "    <tr>\n",
       "      <th>3</th>\n",
       "      <td>David</td>\n",
       "      <td>21.0</td>\n",
       "      <td>85.0</td>\n",
       "      <td>78.0</td>\n",
       "    </tr>\n",
       "    <tr>\n",
       "      <th>4</th>\n",
       "      <td>Emily</td>\n",
       "      <td>22.0</td>\n",
       "      <td>85.0</td>\n",
       "      <td>88.0</td>\n",
       "    </tr>\n",
       "    <tr>\n",
       "      <th>5</th>\n",
       "      <td>Frank</td>\n",
       "      <td>18.0</td>\n",
       "      <td>70.0</td>\n",
       "      <td>75.0</td>\n",
       "    </tr>\n",
       "    <tr>\n",
       "      <th>6</th>\n",
       "      <td>Grace</td>\n",
       "      <td>20.0</td>\n",
       "      <td>88.0</td>\n",
       "      <td>90.0</td>\n",
       "    </tr>\n",
       "    <tr>\n",
       "      <th>7</th>\n",
       "      <td>Henry</td>\n",
       "      <td>20.0</td>\n",
       "      <td>92.0</td>\n",
       "      <td>94.0</td>\n",
       "    </tr>\n",
       "    <tr>\n",
       "      <th>8</th>\n",
       "      <td>Ivy</td>\n",
       "      <td>19.0</td>\n",
       "      <td>78.0</td>\n",
       "      <td>80.0</td>\n",
       "    </tr>\n",
       "    <tr>\n",
       "      <th>9</th>\n",
       "      <td>Jack</td>\n",
       "      <td>21.0</td>\n",
       "      <td>85.0</td>\n",
       "      <td>87.0</td>\n",
       "    </tr>\n",
       "  </tbody>\n",
       "</table>\n",
       "</div>"
      ],
      "text/plain": [
       "      Name   Age  Math_Score  Science_Score\n",
       "0    Alice  20.0        80.0           85.0\n",
       "1      Bob  19.0        75.0            NaN\n",
       "2  Charlie  20.0        90.0           92.0\n",
       "3    David  21.0        85.0           78.0\n",
       "4    Emily  22.0        85.0           88.0\n",
       "5    Frank  18.0        70.0           75.0\n",
       "6    Grace  20.0        88.0           90.0\n",
       "7    Henry  20.0        92.0           94.0\n",
       "8      Ivy  19.0        78.0           80.0\n",
       "9     Jack  21.0        85.0           87.0"
      ]
     },
     "execution_count": 22,
     "metadata": {},
     "output_type": "execute_result"
    }
   ],
   "source": [
    "df"
   ]
  },
  {
   "cell_type": "code",
   "execution_count": 23,
   "id": "719fd817-aca7-43cd-bfbe-bb4fa80beb55",
   "metadata": {},
   "outputs": [
    {
     "data": {
      "text/html": [
       "<div>\n",
       "<style scoped>\n",
       "    .dataframe tbody tr th:only-of-type {\n",
       "        vertical-align: middle;\n",
       "    }\n",
       "\n",
       "    .dataframe tbody tr th {\n",
       "        vertical-align: top;\n",
       "    }\n",
       "\n",
       "    .dataframe thead th {\n",
       "        text-align: right;\n",
       "    }\n",
       "</style>\n",
       "<table border=\"1\" class=\"dataframe\">\n",
       "  <thead>\n",
       "    <tr style=\"text-align: right;\">\n",
       "      <th></th>\n",
       "      <th>Name</th>\n",
       "      <th>Age</th>\n",
       "      <th>Math_Score</th>\n",
       "      <th>Science_Score</th>\n",
       "    </tr>\n",
       "  </thead>\n",
       "  <tbody>\n",
       "    <tr>\n",
       "      <th>0</th>\n",
       "      <td>Alice</td>\n",
       "      <td>20.0</td>\n",
       "      <td>80.0</td>\n",
       "      <td>85.0</td>\n",
       "    </tr>\n",
       "    <tr>\n",
       "      <th>1</th>\n",
       "      <td>Bob</td>\n",
       "      <td>19.0</td>\n",
       "      <td>75.0</td>\n",
       "      <td>NaN</td>\n",
       "    </tr>\n",
       "    <tr>\n",
       "      <th>2</th>\n",
       "      <td>Charlie</td>\n",
       "      <td>20.0</td>\n",
       "      <td>90.0</td>\n",
       "      <td>92.0</td>\n",
       "    </tr>\n",
       "    <tr>\n",
       "      <th>3</th>\n",
       "      <td>David</td>\n",
       "      <td>21.0</td>\n",
       "      <td>85.0</td>\n",
       "      <td>78.0</td>\n",
       "    </tr>\n",
       "    <tr>\n",
       "      <th>4</th>\n",
       "      <td>Emily</td>\n",
       "      <td>22.0</td>\n",
       "      <td>85.0</td>\n",
       "      <td>88.0</td>\n",
       "    </tr>\n",
       "    <tr>\n",
       "      <th>5</th>\n",
       "      <td>Frank</td>\n",
       "      <td>18.0</td>\n",
       "      <td>70.0</td>\n",
       "      <td>75.0</td>\n",
       "    </tr>\n",
       "    <tr>\n",
       "      <th>6</th>\n",
       "      <td>Grace</td>\n",
       "      <td>20.0</td>\n",
       "      <td>88.0</td>\n",
       "      <td>90.0</td>\n",
       "    </tr>\n",
       "    <tr>\n",
       "      <th>7</th>\n",
       "      <td>Henry</td>\n",
       "      <td>20.0</td>\n",
       "      <td>92.0</td>\n",
       "      <td>94.0</td>\n",
       "    </tr>\n",
       "    <tr>\n",
       "      <th>8</th>\n",
       "      <td>Ivy</td>\n",
       "      <td>19.0</td>\n",
       "      <td>78.0</td>\n",
       "      <td>80.0</td>\n",
       "    </tr>\n",
       "    <tr>\n",
       "      <th>9</th>\n",
       "      <td>Jack</td>\n",
       "      <td>21.0</td>\n",
       "      <td>85.0</td>\n",
       "      <td>87.0</td>\n",
       "    </tr>\n",
       "  </tbody>\n",
       "</table>\n",
       "</div>"
      ],
      "text/plain": [
       "      Name   Age  Math_Score  Science_Score\n",
       "0    Alice  20.0        80.0           85.0\n",
       "1      Bob  19.0        75.0            NaN\n",
       "2  Charlie  20.0        90.0           92.0\n",
       "3    David  21.0        85.0           78.0\n",
       "4    Emily  22.0        85.0           88.0\n",
       "5    Frank  18.0        70.0           75.0\n",
       "6    Grace  20.0        88.0           90.0\n",
       "7    Henry  20.0        92.0           94.0\n",
       "8      Ivy  19.0        78.0           80.0\n",
       "9     Jack  21.0        85.0           87.0"
      ]
     },
     "execution_count": 23,
     "metadata": {},
     "output_type": "execute_result"
    }
   ],
   "source": [
    "df"
   ]
  },
  {
   "cell_type": "code",
   "execution_count": 26,
   "id": "be8ebc08-e94b-474f-ad22-ee1dda63944b",
   "metadata": {},
   "outputs": [],
   "source": [
    "df2 = df['Science_Score'].fillna(df['Science_Score'].mean() , inplace = False)"
   ]
  },
  {
   "cell_type": "code",
   "execution_count": 27,
   "id": "3794c25a-3e7b-447d-8377-81f5c84b9ced",
   "metadata": {},
   "outputs": [
    {
     "data": {
      "text/plain": [
       "0    85.000000\n",
       "1    85.444444\n",
       "2    92.000000\n",
       "3    78.000000\n",
       "4    88.000000\n",
       "5    75.000000\n",
       "6    90.000000\n",
       "7    94.000000\n",
       "8    80.000000\n",
       "9    87.000000\n",
       "Name: Science_Score, dtype: float64"
      ]
     },
     "execution_count": 27,
     "metadata": {},
     "output_type": "execute_result"
    }
   ],
   "source": [
    "df2"
   ]
  },
  {
   "cell_type": "markdown",
   "id": "ee019a97-a683-42a6-9ab3-78199fa6395f",
   "metadata": {},
   "source": [
    "# 3.Indentify Outliers using bloxplot and scatterplot"
   ]
  },
  {
   "cell_type": "code",
   "execution_count": 38,
   "id": "f14444b1-08cc-4df9-b21e-2695eef619d9",
   "metadata": {},
   "outputs": [],
   "source": [
    "import matplotlib.pyplot as plt"
   ]
  },
  {
   "cell_type": "code",
   "execution_count": 39,
   "id": "e9862c39-4b83-47b9-ae57-58505e1ef5d7",
   "metadata": {},
   "outputs": [
    {
     "data": {
      "text/plain": [
       "<Figure size 640x480 with 0 Axes>"
      ]
     },
     "execution_count": 39,
     "metadata": {},
     "output_type": "execute_result"
    },
    {
     "data": {
      "text/plain": [
       "<Figure size 640x480 with 0 Axes>"
      ]
     },
     "metadata": {},
     "output_type": "display_data"
    }
   ],
   "source": [
    "plt.figure(figure = (8 , 5))"
   ]
  },
  {
   "cell_type": "code",
   "execution_count": 40,
   "id": "3020600c-fc52-4a72-8a96-31938878be6f",
   "metadata": {},
   "outputs": [
    {
     "data": {
      "text/plain": [
       "<Axes: >"
      ]
     },
     "execution_count": 40,
     "metadata": {},
     "output_type": "execute_result"
    },
    {
     "data": {
      "image/png": "[encoded data removed]",
      "text/plain": [
       "<Figure size 640x480 with 1 Axes>"
      ]
     },
     "metadata": {},
     "output_type": "display_data"
    }
   ],
   "source": [
    "df.boxplot(column = ['Math_Score'])"
   ]
  },
  {
   "cell_type": "code",
   "execution_count": 41,
   "id": "15597ce9-4059-49ce-9be0-dd959af2f8e6",
   "metadata": {},
   "outputs": [
    {
     "data": {
      "image/png": "[encoded data removed]",
      "text/plain": [
       "<Figure size 800x500 with 1 Axes>"
      ]
     },
     "metadata": {},
     "output_type": "display_data"
    }
   ],
   "source": [
    "plt.figure(figsize=(8, 5))\n",
    "df.boxplot(column=['Math_Score'])\n",
    "plt.title('Boxplot of Math Scores')\n",
    "plt.show()"
   ]
  },
  {
   "cell_type": "code",
   "execution_count": 42,
   "id": "284ca4a5-340e-4199-bde7-03378d1eb6c8",
   "metadata": {},
   "outputs": [
    {
     "data": {
      "text/plain": [
       "<Axes: >"
      ]
     },
     "execution_count": 42,
     "metadata": {},
     "output_type": "execute_result"
    },
    {
     "data": {
      "image/png": "[encoded data removed]",
      "text/plain": [
       "<Figure size 640x480 with 1 Axes>"
      ]
     },
     "metadata": {},
     "output_type": "display_data"
    }
   ],
   "source": [
    "df.boxplot()"
   ]
  },
  {
   "cell_type": "markdown",
   "id": "8535d59f-98a4-4eff-9e33-185c99ff1985",
   "metadata": {},
   "source": [
    "In the boxplot:\n",
    "The box represents the interquartile range (IQR), where the central line is the median.\n",
    "The whiskers extend to the most extreme data points within 1.5 times the IQR from the lower and upper quartiles.\n",
    "Any data points beyond the whiskers are considered outliers.\n"
   ]
  },
  {
   "cell_type": "markdown",
   "id": "954b103f-3e69-4716-8a48-fb64be62fe21",
   "metadata": {},
   "source": [
    "# Scatter PLot"
   ]
  },
  {
   "cell_type": "code",
   "execution_count": 44,
   "id": "b07ad66a-cb2d-4eb1-b25b-f913461009c5",
   "metadata": {},
   "outputs": [
    {
     "data": {
      "text/plain": [
       "<Figure size 800x500 with 0 Axes>"
      ]
     },
     "execution_count": 44,
     "metadata": {},
     "output_type": "execute_result"
    },
    {
     "data": {
      "text/plain": [
       "<Figure size 800x500 with 0 Axes>"
      ]
     },
     "metadata": {},
     "output_type": "display_data"
    }
   ],
   "source": [
    "plt.figure(figsize=(8, 5))"
   ]
  },
  {
   "cell_type": "code",
   "execution_count": 45,
   "id": "8c3720cf-1e17-4940-ad0a-5ae65d9b3542",
   "metadata": {},
   "outputs": [
    {
     "data": {
      "image/png": "[encoded data removed]",
      "text/plain": [
       "<Figure size 640x480 with 1 Axes>"
      ]
     },
     "metadata": {},
     "output_type": "display_data"
    }
   ],
   "source": [
    "plt.scatter(df['Math_Score'], df['Science_Score'])\n",
    "plt.title('Scatterplot: Math Score vs Science Score')\n",
    "plt.xlabel('Math Score')\n",
    "plt.ylabel('Science Score')\n",
    "plt.show()"
   ]
  },
  {
   "cell_type": "markdown",
   "id": "f95bc1dc-5a37-431e-aec9-e4a0e12e76b4",
   "metadata": {},
   "source": [
    "Visualizing Relationships: Scatter plots show the relationship between two variables.\n",
    "\n",
    "Identifying Correlations: They help identify positive, negative, or no correlations between variables.\n",
    "\n",
    "Detecting Outliers: Outliers can be easily spotted on scatter plots.\n",
    "\n",
    "Assessing Clusters: Scatter plots visualize clusters or groups in the data.\n",
    "\n",
    "Examining Linearity: They help assess whether there's a linear relationship between variables.\n",
    "\n",
    "Comparing Variables: Scatter plots can compare multiple variables using color, size, or shape.\n"
   ]
  },
  {
   "cell_type": "code",
   "execution_count": 46,
   "id": "6ee4afbc-b505-48f8-8b87-4c3377f5db23",
   "metadata": {},
   "outputs": [
    {
     "data": {
      "text/plain": [
       "<matplotlib.collections.PathCollection at 0x123e49e50>"
      ]
     },
     "execution_count": 46,
     "metadata": {},
     "output_type": "execute_result"
    },
    {
     "data": {
      "image/png": "[encoded data removed]",
      "text/plain": [
       "<Figure size 640x480 with 1 Axes>"
      ]
     },
     "metadata": {},
     "output_type": "display_data"
    }
   ],
   "source": [
    "plt.scatter(df['Math_Score'] , df['Science_Score'])"
   ]
  },
  {
   "cell_type": "markdown",
   "id": "3fe255b5-66d1-4a15-bb93-3368a9f8ac11",
   "metadata": {},
   "source": [
    "\n",
    "Correlation refers to the statistical relationship or association between two or more variables. It measures the strength and direction of the linear relationship between variables."
   ]
  },
  {
   "cell_type": "code",
   "execution_count": 47,
   "id": "00b55278-10fb-4455-8ecf-4d404e659794",
   "metadata": {},
   "outputs": [],
   "source": [
    "median_age = np.median(df['Age'])"
   ]
  },
  {
   "cell_type": "code",
   "execution_count": 49,
   "id": "54e26336-3c46-4f67-a96a-11a136f42b4c",
   "metadata": {},
   "outputs": [],
   "source": [
    "threshold_Age = 3 * median_age"
   ]
  },
  {
   "cell_type": "code",
   "execution_count": 51,
   "id": "751fe32f-5be8-47c3-840a-22cd98337dcb",
   "metadata": {},
   "outputs": [],
   "source": [
    "outliers_age = df[np.abs(df['Age'] - median_age) > threshold_Age]"
   ]
  },
  {
   "cell_type": "code",
   "execution_count": 59,
   "id": "2ebcd902-0f8b-4d81-9120-666937abff6b",
   "metadata": {},
   "outputs": [],
   "source": [
    "from scipy import stats"
   ]
  },
  {
   "cell_type": "code",
   "execution_count": 76,
   "id": "4b00f251-b0a9-4fc2-96bb-6688d4810bd5",
   "metadata": {},
   "outputs": [
    {
     "name": "stdout",
     "output_type": "stream",
     "text": [
      "Empty DataFrame\n",
      "Columns: [Name, Age, Math_Score, Science_Score]\n",
      "Index: []\n"
     ]
    }
   ],
   "source": [
    "z=np.abs(stats.zscore(df['Age']))\n",
    "threshold=3\n",
    "outlier = df[z > threshold]\n",
    "print(outlier)"
   ]
  },
  {
   "cell_type": "code",
   "execution_count": 78,
   "id": "1ef9d6c1-1960-44f5-b7ea-5d7b31733e33",
   "metadata": {},
   "outputs": [
    {
     "data": {
      "text/plain": [
       "0   NaN\n",
       "1   NaN\n",
       "2   NaN\n",
       "3   NaN\n",
       "4   NaN\n",
       "5   NaN\n",
       "6   NaN\n",
       "7   NaN\n",
       "8   NaN\n",
       "9   NaN\n",
       "Name: Age, dtype: float64"
      ]
     },
     "execution_count": 78,
     "metadata": {},
     "output_type": "execute_result"
    }
   ],
   "source": [
    "z"
   ]
  },
  {
   "cell_type": "code",
   "execution_count": null,
   "id": "576d981d-e9ae-4fb3-9bda-41f32a15633d",
   "metadata": {},
   "outputs": [],
   "source": [
    "data_without_outliers = np.where(z > threshold, np.nan, df['Age'])\n"
   ]
  }
 ],
 "metadata": {
  "kernelspec": {
   "display_name": "Python 3 (ipykernel)",
   "language": "python",
   "name": "python3"
  },
  "language_info": {
   "codemirror_mode": {
    "name": "ipython",
    "version": 3
   },
   "file_extension": ".py",
   "mimetype": "text/x-python",
   "name": "python",
   "nbconvert_exporter": "python",
   "pygments_lexer": "ipython3",
   "version": "3.12.2"
  }
 },
 "nbformat": 4,
 "nbformat_minor": 5
}
